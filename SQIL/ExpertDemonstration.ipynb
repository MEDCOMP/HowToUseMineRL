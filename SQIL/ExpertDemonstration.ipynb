{
 "cells": [
  {
   "cell_type": "code",
   "execution_count": 1,
   "id": "b6cbd9e3",
   "metadata": {},
   "outputs": [
    {
     "data": {
      "text/plain": [
       "<pyvirtualdisplay.display.Display at 0x7f7dce19cf28>"
      ]
     },
     "execution_count": 1,
     "metadata": {},
     "output_type": "execute_result"
    }
   ],
   "source": [
    "from pyvirtualdisplay import Display\n",
    "display = Display(visible=0, size=(400, 300))\n",
    "display.start()"
   ]
  },
  {
   "cell_type": "code",
   "execution_count": 2,
   "id": "39402911",
   "metadata": {},
   "outputs": [
    {
     "name": "stderr",
     "output_type": "stream",
     "text": [
      "/home/ankitagarg/.local/lib/python3.6/site-packages/gym/logger.py:34: UserWarning: \u001b[33mWARN: Box bound precision lowered by casting to float32\u001b[0m\n",
      "  warnings.warn(colorize(\"%s: %s\" % (\"WARN\", msg % args), \"yellow\"))\n"
     ]
    }
   ],
   "source": [
    "import minerl\n",
    "import random\n",
    "import numpy as np\n",
    "\n",
    "from collections import deque\n",
    "from sklearn.cluster import KMeans"
   ]
  },
  {
   "cell_type": "code",
   "execution_count": 3,
   "id": "25482dcb",
   "metadata": {},
   "outputs": [],
   "source": [
    "class Memory(object):\n",
    "    def __init__(self, memory_size: int) -> None:\n",
    "        self.memory_size = memory_size\n",
    "        self.buffer = deque(maxlen=self.memory_size)\n",
    "\n",
    "    def add(self, experience) -> None:\n",
    "        self.buffer.append(experience)\n",
    "\n",
    "    def size(self):\n",
    "        return len(self.buffer)\n",
    "\n",
    "    def sample(self, batch_size: int):\n",
    "        if batch_size > len(self.buffer):\n",
    "            batch_size = len(self.buffer)\n",
    "        indexes = np.random.choice(np.arange(len(self.buffer)), size=batch_size, replace=False)\n",
    "        return [self.buffer[i] for i in indexes]\n",
    "\n",
    "    def clear(self):\n",
    "        self.buffer.clear()\n",
    "\n",
    "    def save(self, path):\n",
    "        b = np.asarray(self.buffer)\n",
    "        print(b.shape)\n",
    "        np.save(path, b)\n",
    "\n",
    "    def load(self, path):\n",
    "        b = np.load(path+'.npy', allow_pickle=True)\n",
    "#         assert(b.shape[0] == self.memory_size)\n",
    "\n",
    "        for i in range(b.shape[0]):\n",
    "            self.add(b[i])"
   ]
  },
  {
   "cell_type": "code",
   "execution_count": 4,
   "id": "fde3f31c",
   "metadata": {},
   "outputs": [],
   "source": [
    "ENVIRONMENT = 'MineRLTreechopVectorObf-v0'\n",
    "DATA_DIR = \"/home/ankitagarg/minerl/data/\"\n",
    "REPLAY_MEMORY = 100000\n",
    "NUM_OF_CENTROIDS = 64\n",
    "\n",
    "data = minerl.data.make(ENVIRONMENT, data_dir=DATA_DIR)\n",
    "expert_memory_replay = Memory(REPLAY_MEMORY)"
   ]
  },
  {
   "cell_type": "code",
   "execution_count": null,
   "id": "31c15caa",
   "metadata": {},
   "outputs": [],
   "source": [
    "action_data = []\n",
    "demonstration = []\n",
    "\n",
    "trajectory_names = data.get_trajectory_names()\n",
    "random.shuffle(trajectory_names)\n",
    "for trajectory_name in trajectory_names:\n",
    "    trajectory = data.load_data(trajectory_name, skip_interval=0, include_metadata=False)\n",
    "    for state, action, reward, next_state, done in trajectory:\n",
    "        action_data.append(action[\"vector\"])\n",
    "        demonstration.append((state, action, reward, next_state, done))\n",
    "        if len(demonstration) >= REPLAY_MEMORY:\n",
    "            break"
   ]
  },
  {
   "cell_type": "code",
   "execution_count": null,
   "id": "4a8ffb05",
   "metadata": {},
   "outputs": [],
   "source": [
    "all_actions = np.array(action_data)"
   ]
  },
  {
   "cell_type": "code",
   "execution_count": null,
   "id": "1f71c1b6",
   "metadata": {},
   "outputs": [],
   "source": [
    "print(\"Running KMeans on the action vectors\")\n",
    "kmeans = KMeans(n_clusters=NUM_OF_CENTROIDS)\n",
    "kmeans.fit(action_data)\n",
    "action_centroids = kmeans.cluster_centers_\n",
    "print(\"KMeans done\")"
   ]
  },
  {
   "cell_type": "code",
   "execution_count": null,
   "id": "9dade65f",
   "metadata": {},
   "outputs": [],
   "source": [
    "np.save('./action_centroids', action_centroids)"
   ]
  },
  {
   "cell_type": "code",
   "execution_count": null,
   "id": "df3484d0",
   "metadata": {},
   "outputs": [],
   "source": [
    "for i in range(len(demonstration)):\n",
    "    action_vector = demonstration[i][1][\"vector\"]\n",
    "    distances = np.sum((action_vector - action_centroids[:, None]) ** 2, axis=2)\n",
    "    action = np.argmin(distances, axis=0)\n",
    "    expert_memory_replay.add((demonstration[i][0], action, 1, demonstration[i][3], demonstration[i][4]))\n",
    "    if expert_memory_replay.size() == REPLAY_MEMORY:\n",
    "        print('buffer memory full')\n",
    "        break"
   ]
  },
  {
   "cell_type": "code",
   "execution_count": null,
   "id": "abe9270d",
   "metadata": {},
   "outputs": [],
   "source": [
    "expert_memory_replay.save('expert_memory_replay')"
   ]
  },
  {
   "cell_type": "code",
   "execution_count": null,
   "id": "380d8639",
   "metadata": {},
   "outputs": [],
   "source": [
    "# trajectory_names = data.get_trajectory_names()\n",
    "# random.shuffle(trajectory_names)\n",
    "# expert_memory_replay = Memory(REPLAY_MEMORY)\n",
    "# for trajectory_name in trajectory_names:\n",
    "#     trajectory = data.load_data(trajectory_name, skip_interval=0, include_metadata=False)\n",
    "#     temp = []\n",
    "#     episode_reward = []\n",
    "#     for dataset_observation, dataset_action, dataset_rewards, next_states, done in trajectory:\n",
    "#         action_vector = dataset_action[\"vector\"]\n",
    "#         distances = np.sum((action_vector - action_centroids[:, None]) ** 2, axis=2)\n",
    "#         action = np.argmin(distances, axis=0)\n",
    "\n",
    "#         episode_reward.append(dataset_rewards)\n",
    "#         temp.append((dataset_observation, action, next_states, dataset_rewards, done))\n",
    "        \n",
    "#     if np.sum(episode_reward) > 0:\n",
    "#         for step in temp:\n",
    "#             expert_memory_replay.add(step)\n",
    "#             if expert_memory_replay.size() >= REPLAY_MEMORY:\n",
    "#                 break\n",
    "#     if expert_memory_replay.size() >= REPLAY_MEMORY:\n",
    "#         print('buffer memory full')\n",
    "#         break"
   ]
  }
 ],
 "metadata": {
  "kernelspec": {
   "display_name": "Python [conda env:venv] *",
   "language": "python",
   "name": "conda-env-venv-py"
  },
  "language_info": {
   "codemirror_mode": {
    "name": "ipython",
    "version": 3
   },
   "file_extension": ".py",
   "mimetype": "text/x-python",
   "name": "python",
   "nbconvert_exporter": "python",
   "pygments_lexer": "ipython3",
   "version": "3.6.13"
  }
 },
 "nbformat": 4,
 "nbformat_minor": 5
}
