{
 "cells": [
  {
   "cell_type": "code",
   "execution_count": 1,
   "id": "03423d36",
   "metadata": {},
   "outputs": [],
   "source": [
    "from pyvirtualdisplay import Display\n",
    "display = Display(visible=0, size=(400, 300))\n",
    "display.start();"
   ]
  },
  {
   "cell_type": "code",
   "execution_count": 2,
   "id": "682b6aef",
   "metadata": {},
   "outputs": [
    {
     "name": "stderr",
     "output_type": "stream",
     "text": [
      "/home/ankitagarg/.local/lib/python3.6/site-packages/gym/logger.py:34: UserWarning: \u001b[33mWARN: Box bound precision lowered by casting to float32\u001b[0m\n",
      "  warnings.warn(colorize(\"%s: %s\" % (\"WARN\", msg % args), \"yellow\"))\n"
     ]
    }
   ],
   "source": [
    "import numpy as np\n",
    "import torch\n",
    "import gym\n",
    "import minerl\n",
    "import random\n",
    "\n",
    "from torch import nn\n",
    "from sklearn.cluster import KMeans\n",
    "from tqdm import tqdm\n",
    "\n",
    "class ConvNet(nn.Module):\n",
    "    \"\"\"\n",
    "    :param input_shape: A three-item tuple telling image dimensions in (C, H, W)\n",
    "    :param output_dim: Dimensionality of the output vector\n",
    "    \"\"\"\n",
    "\n",
    "    def __init__(self, input_shape, output_dim):\n",
    "        super().__init__()\n",
    "        n_input_channels = input_shape[0]\n",
    "        self.cnn = nn.Sequential(\n",
    "            nn.Conv2d(n_input_channels, 32, kernel_size=8, stride=4, padding=0),\n",
    "            nn.ReLU(),\n",
    "            nn.Conv2d(32, 64, kernel_size=4, stride=2, padding=0),\n",
    "            nn.ReLU(),\n",
    "            nn.Conv2d(64, 64, kernel_size=3, stride=1, padding=0),\n",
    "            nn.ReLU(),\n",
    "            nn.Flatten(),\n",
    "        )\n",
    "\n",
    "        # Compute shape by doing one forward pass\n",
    "        with torch.no_grad():\n",
    "            n_flatten = self.cnn(torch.zeros(1, *input_shape)).shape[1]\n",
    "\n",
    "        self.linear = nn.Sequential(\n",
    "            nn.Linear(n_flatten, 512),\n",
    "            nn.ReLU(),\n",
    "            nn.Linear(512, output_dim)\n",
    "        )\n",
    "\n",
    "    def forward(self, observations: torch.Tensor) -> torch.Tensor:\n",
    "        return self.linear(self.cnn(observations))"
   ]
  },
  {
   "cell_type": "code",
   "execution_count": 3,
   "id": "06367297",
   "metadata": {},
   "outputs": [],
   "source": [
    "from minerl.data import BufferedBatchIter\n",
    "DATA_DIR = \"/home/ankitagarg/minerl/data/\"\n",
    "EPOCHS = 50\n",
    "BATCH_SIZE = 32\n",
    "learning_rate = 1e-4\n",
    "DATA_SAMPLES = 80000\n",
    "NUM_ACTION_CENTROIDS = 24\n",
    "\n",
    "data = minerl.data.make('MineRLTreechopVectorObf-v0', data_dir=DATA_DIR)"
   ]
  },
  {
   "cell_type": "code",
   "execution_count": 4,
   "id": "5538ab43",
   "metadata": {},
   "outputs": [
    {
     "name": "stderr",
     "output_type": "stream",
     "text": [
      "100%|██████████| 2193/2193 [00:00<00:00, 200433.83it/s]\n",
      "100%|██████████| 2477/2477 [00:00<00:00, 190294.00it/s]\n",
      "100%|██████████| 1624/1624 [00:00<00:00, 142200.57it/s]\n",
      "100%|██████████| 1790/1790 [00:00<00:00, 168227.03it/s]\n",
      "100%|██████████| 1751/1751 [00:00<00:00, 197467.90it/s]\n",
      "100%|██████████| 1537/1537 [00:00<00:00, 198621.11it/s]\n",
      "100%|██████████| 2255/2255 [00:00<00:00, 166934.16it/s]\n",
      "100%|██████████| 1672/1672 [00:00<00:00, 201184.13it/s]\n",
      "100%|██████████| 1845/1845 [00:00<00:00, 171798.48it/s]\n",
      "100%|██████████| 1603/1603 [00:00<00:00, 201259.30it/s]\n",
      "100%|██████████| 1939/1939 [00:00<00:00, 200803.82it/s]\n",
      "100%|██████████| 1379/1379 [00:00<00:00, 197897.33it/s]\n",
      "100%|██████████| 1639/1639 [00:00<00:00, 204347.80it/s]\n",
      "100%|██████████| 1889/1889 [00:00<00:00, 203410.45it/s]\n",
      "100%|██████████| 1668/1668 [00:00<00:00, 201176.07it/s]\n",
      "100%|██████████| 2149/2149 [00:00<00:00, 161527.53it/s]\n",
      "100%|██████████| 3097/3097 [00:00<00:00, 185324.42it/s]\n",
      "100%|██████████| 1565/1565 [00:00<00:00, 195738.36it/s]\n",
      "100%|██████████| 1680/1680 [00:00<00:00, 147266.99it/s]\n",
      "100%|██████████| 1654/1654 [00:00<00:00, 197815.19it/s]\n",
      "100%|██████████| 1784/1784 [00:00<00:00, 203404.42it/s]\n",
      "100%|██████████| 1528/1528 [00:00<00:00, 195428.94it/s]\n",
      "100%|██████████| 1674/1674 [00:00<00:00, 164833.90it/s]\n",
      "100%|██████████| 1900/1900 [00:00<00:00, 200054.67it/s]\n",
      "100%|██████████| 2523/2523 [00:00<00:00, 193236.84it/s]\n",
      "100%|██████████| 4578/4578 [00:00<00:00, 161412.95it/s]\n",
      "100%|██████████| 5678/5678 [00:00<00:00, 202086.25it/s]\n",
      "100%|██████████| 2632/2632 [00:00<00:00, 200435.90it/s]\n",
      "100%|██████████| 2761/2761 [00:00<00:00, 200451.31it/s]\n",
      "100%|██████████| 2661/2661 [00:00<00:00, 197964.54it/s]\n",
      "100%|██████████| 2084/2084 [00:00<00:00, 197508.35it/s]\n",
      "100%|██████████| 1821/1821 [00:00<00:00, 193553.83it/s]\n",
      "100%|██████████| 1761/1761 [00:00<00:00, 151272.23it/s]\n",
      "100%|██████████| 1843/1843 [00:00<00:00, 153710.52it/s]\n",
      "100%|██████████| 1853/1853 [00:00<00:00, 199954.86it/s]\n",
      "100%|██████████| 1792/1792 [00:00<00:00, 187333.45it/s]\n",
      "100%|██████████| 2038/2038 [00:00<00:00, 188847.46it/s]\n",
      "100%|██████████| 1963/1963 [00:00<00:00, 197099.05it/s]\n"
     ]
    },
    {
     "name": "stdout",
     "output_type": "stream",
     "text": [
      "Running KMeans on the action vectors\n",
      "KMeans done\n"
     ]
    }
   ],
   "source": [
    "all_actions = []\n",
    "\n",
    "trajectory_names = data.get_trajectory_names()\n",
    "random.shuffle(trajectory_names)\n",
    "\n",
    "for trajectory_name in trajectory_names:\n",
    "    trajectory = data.load_data(trajectory_name, skip_interval=0, include_metadata=False)\n",
    "    rewards = []\n",
    "    actions = [] \n",
    "    for dataset_observation, dataset_action, dataset_rewards, _, _ in trajectory:\n",
    "        rewards.append(dataset_rewards)\n",
    "        actions.append(dataset_action[\"vector\"])\n",
    "    if sum(rewards) > 0:\n",
    "        all_actions.extend(actions)\n",
    "    if len(all_actions) >= DATA_SAMPLES:\n",
    "        break\n",
    "\n",
    "all_actions = np.array(all_actions)\n",
    "\n",
    "# Run k-means clustering using scikit-learn.\n",
    "print(\"Running KMeans on the action vectors\")\n",
    "kmeans = KMeans(n_clusters=NUM_ACTION_CENTROIDS)\n",
    "kmeans.fit(all_actions)\n",
    "action_centroids = kmeans.cluster_centers_\n",
    "print(\"KMeans done\")"
   ]
  },
  {
   "cell_type": "code",
   "execution_count": 5,
   "id": "3980a6e0",
   "metadata": {},
   "outputs": [],
   "source": [
    "# from colabgymrender.recorder import Recorder\n",
    "env = gym.make('MineRLTreechopVectorObf-v0')\n",
    "# env = Recorder(env, './video', fps=60)"
   ]
  },
  {
   "cell_type": "code",
   "execution_count": 6,
   "id": "433eaab4",
   "metadata": {},
   "outputs": [],
   "source": [
    "def test(network, action_centroids, num_episodes):\n",
    "    \n",
    "    num_actions = action_centroids.shape[0]\n",
    "    action_list = np.arange(num_actions)\n",
    "\n",
    "    episode_rewards = []\n",
    "    for episode in range(num_episodes):\n",
    "        obs = env.reset()\n",
    "        done = False\n",
    "        total_reward = 0\n",
    "        steps = 0\n",
    "\n",
    "        while not done:\n",
    "            obs = torch.from_numpy(obs['pov'].transpose(2, 0, 1)[None].astype(np.float32) / 255)\n",
    "            probabilities = torch.softmax(network(obs), dim=1)[0]\n",
    "            probabilities = probabilities.detach().numpy()\n",
    "            discrete_action = np.random.choice(action_list, p=probabilities)\n",
    "\n",
    "            action = action_centroids[discrete_action]\n",
    "            minerl_action = {\"vector\": action}\n",
    "\n",
    "            obs, reward, done, info = env.step(minerl_action)\n",
    "            total_reward += reward\n",
    "            steps += 1\n",
    "            if steps > 18000: \n",
    "                break\n",
    "\n",
    "        episode_rewards.append(total_reward)\n",
    "    \n",
    "    return episode_rewards"
   ]
  },
  {
   "cell_type": "code",
   "execution_count": 8,
   "id": "f724b25c",
   "metadata": {},
   "outputs": [],
   "source": [
    "def train():\n",
    "    iterator = BufferedBatchIter(data)\n",
    "\n",
    "    network = ConvNet((3, 64, 64), NUM_ACTION_CENTROIDS)\n",
    "\n",
    "    optimizer = torch.optim.SGD(network.parameters(), lr=learning_rate)\n",
    "    loss_function = nn.CrossEntropyLoss()\n",
    "\n",
    "    iter_count = 0\n",
    "    losses = []\n",
    "    training_steps = []\n",
    "    training_return = []\n",
    "    for dataset_obs, dataset_actions, _, _, _ in tqdm(iterator.buffered_batch_iter(num_epochs=EPOCHS, batch_size=BATCH_SIZE)):\n",
    "        obs = dataset_obs[\"pov\"].astype(np.float32)\n",
    "        obs = obs.transpose(0, 3, 1, 2)\n",
    "        obs /= 255.0\n",
    "\n",
    "        action_vector = dataset_actions[\"vector\"]\n",
    "        distances = np.sum((action_vector - action_centroids[:, None]) ** 2, axis=2)\n",
    "        actions = np.argmin(distances, axis=0)\n",
    "        encoded_actions = np.zeros((actions.shape[0],NUM_ACTION_CENTROIDS))\n",
    "        for i in range(actions.shape[0]):\n",
    "            encoded_actions[i][actions[i]] = 1\n",
    "\n",
    "        pred = network(torch.from_numpy(obs).float())\n",
    "        loss = loss_function(pred, torch.tensor(encoded_actions))\n",
    "        losses.append(loss.item())\n",
    "        \n",
    "        optimizer.zero_grad()\n",
    "        loss.backward()\n",
    "        optimizer.step()\n",
    "\n",
    "        # Keep track of how training is going by printing out the loss\n",
    "        iter_count += 1\n",
    "        training_steps.append(iter_count)\n",
    "        \n",
    "        if (iter_count % 10) == 0:\n",
    "            mean_loss = sum(losses[-10:]) / 10\n",
    "            tqdm.write(\"Iteration {}. Loss {:<10.3f}\".format(iter_count, mean_loss))\n",
    "            \n",
    "        if (iter_count % 10000) == 0:\n",
    "            episode_rewards = test(network, action_centroids, 5)\n",
    "            training_return.append(np.mean(np.array(episode_rewards)))\n",
    "        \n",
    "        if(iter_count >= 150000):\n",
    "            break\n",
    "        \n",
    "    # Store the network\n",
    "    torch.save(network, \"behavioural_cloning.pth\")\n",
    "    np.save(\"behavioural_cloning_centroids.npy\", action_centroids)\n",
    "\n",
    "    return losses, training_steps, training_return"
   ]
  },
  {
   "cell_type": "code",
   "execution_count": 9,
   "id": "e4167efb",
   "metadata": {
    "scrolled": true
   },
   "outputs": [
    {
     "name": "stderr",
     "output_type": "stream",
     "text": [
      "149353it [11:19:30, 166.82it/s]"
     ]
    },
    {
     "name": "stdout",
     "output_type": "stream",
     "text": [
      "Iteration 149330. Loss 1.462     \n",
      "Iteration 149340. Loss 1.528     \n",
      "Iteration 149350. Loss 1.423     \n",
      "Iteration 149360. Loss 1.650     \n",
      "Iteration 149370. Loss 1.491     \n"
     ]
    },
    {
     "name": "stderr",
     "output_type": "stream",
     "text": [
      "149398it [11:19:30, 190.83it/s]"
     ]
    },
    {
     "name": "stdout",
     "output_type": "stream",
     "text": [
      "Iteration 149380. Loss 1.382     \n",
      "Iteration 149390. Loss 1.517     \n",
      "Iteration 149400. Loss 1.566     \n"
     ]
    },
    {
     "name": "stderr",
     "output_type": "stream",
     "text": [
      "\n",
      "100%|██████████| 1630/1630 [00:00<00:00, 131980.38it/s]\n",
      "149441it [11:19:30, 142.98it/s]"
     ]
    },
    {
     "name": "stdout",
     "output_type": "stream",
     "text": [
      "Iteration 149410. Loss 1.689     \n",
      "Iteration 149420. Loss 1.473     \n",
      "Iteration 149430. Loss 1.512     \n",
      "Iteration 149440. Loss 1.348     \n",
      "Iteration 149450. Loss 1.545     \n"
     ]
    },
    {
     "name": "stderr",
     "output_type": "stream",
     "text": [
      "\n",
      "100%|██████████| 1452/1452 [00:00<00:00, 101119.59it/s]\n",
      "149483it [11:19:31, 132.41it/s]"
     ]
    },
    {
     "name": "stdout",
     "output_type": "stream",
     "text": [
      "Iteration 149460. Loss 1.437     \n",
      "Iteration 149470. Loss 1.652     \n",
      "Iteration 149480. Loss 1.432     \n",
      "Iteration 149490. Loss 1.584     \n",
      "Iteration 149500. Loss 1.358     \n"
     ]
    },
    {
     "name": "stderr",
     "output_type": "stream",
     "text": [
      "\n",
      "100%|██████████| 2557/2557 [00:00<00:00, 117064.19it/s]\n",
      "149544it [11:19:31, 125.10it/s]"
     ]
    },
    {
     "name": "stdout",
     "output_type": "stream",
     "text": [
      "Iteration 149510. Loss 1.370     \n",
      "Iteration 149520. Loss 1.607     \n",
      "Iteration 149530. Loss 1.675     \n",
      "Iteration 149540. Loss 1.503     \n"
     ]
    },
    {
     "name": "stderr",
     "output_type": "stream",
     "text": [
      "149564it [11:19:31, 139.90it/s]"
     ]
    },
    {
     "name": "stdout",
     "output_type": "stream",
     "text": [
      "Iteration 149550. Loss 1.520     \n",
      "Iteration 149560. Loss 1.391     \n",
      "Iteration 149570. Loss 1.576     \n",
      "Iteration 149580. Loss 1.647     \n"
     ]
    },
    {
     "name": "stderr",
     "output_type": "stream",
     "text": [
      "\n",
      "100%|██████████| 2194/2194 [00:00<00:00, 112127.49it/s]\n",
      "149625it [11:19:32, 135.71it/s]"
     ]
    },
    {
     "name": "stdout",
     "output_type": "stream",
     "text": [
      "Iteration 149590. Loss 1.675     \n",
      "Iteration 149600. Loss 1.506     \n",
      "Iteration 149610. Loss 1.521     \n",
      "Iteration 149620. Loss 1.485     \n",
      "Iteration 149630. Loss 1.699     \n"
     ]
    },
    {
     "name": "stderr",
     "output_type": "stream",
     "text": [
      "149646it [11:19:32, 151.61it/s]"
     ]
    },
    {
     "name": "stdout",
     "output_type": "stream",
     "text": [
      "Iteration 149640. Loss 1.529     \n",
      "Iteration 149650. Loss 1.556     \n"
     ]
    },
    {
     "name": "stderr",
     "output_type": "stream",
     "text": [
      "\n",
      "  0%|          | 0/2215 [00:00<?, ?it/s]\u001b[A\n",
      "100%|██████████| 2215/2215 [00:00<00:00, 10653.97it/s][A\n",
      "149687it [11:19:33, 98.49it/s] "
     ]
    },
    {
     "name": "stdout",
     "output_type": "stream",
     "text": [
      "Iteration 149660. Loss 1.595     \n",
      "Iteration 149670. Loss 1.389     \n",
      "Iteration 149680. Loss 1.576     \n",
      "Iteration 149690. Loss 1.542     \n",
      "Iteration 149700. Loss 1.687     \n"
     ]
    },
    {
     "name": "stderr",
     "output_type": "stream",
     "text": [
      "149709it [11:19:33, 118.89it/s]"
     ]
    },
    {
     "name": "stdout",
     "output_type": "stream",
     "text": [
      "Iteration 149710. Loss 1.580     \n",
      "Iteration 149720. Loss 1.574     \n"
     ]
    },
    {
     "name": "stderr",
     "output_type": "stream",
     "text": [
      "\n",
      "100%|██████████| 1669/1669 [00:00<00:00, 105330.93it/s]\n",
      "149770it [11:19:33, 133.53it/s]"
     ]
    },
    {
     "name": "stdout",
     "output_type": "stream",
     "text": [
      "Iteration 149730. Loss 1.617     \n",
      "Iteration 149740. Loss 1.502     \n",
      "Iteration 149750. Loss 1.545     \n",
      "Iteration 149760. Loss 1.683     \n",
      "Iteration 149770. Loss 1.466     \n"
     ]
    },
    {
     "name": "stderr",
     "output_type": "stream",
     "text": [
      "\n",
      "100%|██████████| 1519/1519 [00:00<00:00, 126288.88it/s]\n",
      "149808it [11:19:33, 122.42it/s]"
     ]
    },
    {
     "name": "stdout",
     "output_type": "stream",
     "text": [
      "Iteration 149780. Loss 1.664     \n",
      "Iteration 149790. Loss 1.567     \n",
      "Iteration 149800. Loss 1.640     \n",
      "Iteration 149810. Loss 1.573     \n"
     ]
    },
    {
     "name": "stderr",
     "output_type": "stream",
     "text": [
      "\n",
      "100%|██████████| 1628/1628 [00:00<00:00, 101503.25it/s]\n",
      "149846it [11:19:34, 115.29it/s]"
     ]
    },
    {
     "name": "stdout",
     "output_type": "stream",
     "text": [
      "Iteration 149820. Loss 1.665     \n",
      "Iteration 149830. Loss 1.300     \n",
      "Iteration 149840. Loss 1.550     \n",
      "Iteration 149850. Loss 1.503     \n",
      "Iteration 149860. Loss 1.625     \n"
     ]
    },
    {
     "name": "stderr",
     "output_type": "stream",
     "text": [
      "149867it [11:19:34, 133.40it/s]"
     ]
    },
    {
     "name": "stdout",
     "output_type": "stream",
     "text": [
      "Iteration 149870. Loss 1.470     \n"
     ]
    },
    {
     "name": "stderr",
     "output_type": "stream",
     "text": [
      "\n",
      "100%|██████████| 3531/3531 [00:00<00:00, 118951.75it/s]\n",
      "149904it [11:19:35, 94.64it/s] "
     ]
    },
    {
     "name": "stdout",
     "output_type": "stream",
     "text": [
      "Iteration 149880. Loss 1.476     \n",
      "Iteration 149890. Loss 1.516     \n",
      "Iteration 149900. Loss 1.444     \n",
      "Iteration 149910. Loss 1.662     \n"
     ]
    },
    {
     "name": "stderr",
     "output_type": "stream",
     "text": [
      "149944it [11:19:35, 128.87it/s]"
     ]
    },
    {
     "name": "stdout",
     "output_type": "stream",
     "text": [
      "Iteration 149920. Loss 1.511     \n",
      "Iteration 149930. Loss 1.653     \n",
      "Iteration 149940. Loss 1.496     \n",
      "Iteration 149950. Loss 1.623     \n"
     ]
    },
    {
     "name": "stderr",
     "output_type": "stream",
     "text": [
      "149963it [11:19:35, 142.06it/s]"
     ]
    },
    {
     "name": "stdout",
     "output_type": "stream",
     "text": [
      "Iteration 149960. Loss 1.535     \n",
      "Iteration 149970. Loss 1.603     \n",
      "Iteration 149980. Loss 1.506     \n"
     ]
    },
    {
     "name": "stderr",
     "output_type": "stream",
     "text": [
      "\n",
      "100%|██████████| 1961/1961 [00:00<00:00, 90767.97it/s]\n",
      "149982it [11:19:35, 99.05it/s] "
     ]
    },
    {
     "name": "stdout",
     "output_type": "stream",
     "text": [
      "Iteration 149990. Loss 1.573     \n",
      "Iteration 150000. Loss 1.574     \n"
     ]
    },
    {
     "name": "stderr",
     "output_type": "stream",
     "text": [
      "149999it [12:08:05,  3.43it/s]\n"
     ]
    }
   ],
   "source": [
    "losses, training_steps, training_return = train()"
   ]
  },
  {
   "cell_type": "code",
   "execution_count": 18,
   "id": "35b06a14",
   "metadata": {},
   "outputs": [],
   "source": [
    "x = []\n",
    "y = []\n",
    "for i in range(0,150000,1000): \n",
    "    if(i >= len(training_steps)):\n",
    "        break\n",
    "    x.append(i)\n",
    "    y.append(np.mean(np.array(losses[i:i+1000])))\n",
    "    "
   ]
  },
  {
   "cell_type": "code",
   "execution_count": 19,
   "id": "9c99d96d",
   "metadata": {},
   "outputs": [
    {
     "data": {
      "image/png": "[encoded data removed]",
      "text/plain": [
       "<Figure size 432x288 with 1 Axes>"
      ]
     },
     "metadata": {
      "needs_background": "light"
     },
     "output_type": "display_data"
    }
   ],
   "source": [
    "import matplotlib.pyplot as plt\n",
    "import seaborn as sns\n",
    "\n",
    "loss_plot = sns.lineplot(x=x, y=y)\n",
    "fig = loss_plot.get_figure()\n",
    "fig.savefig(\"training_loss.png\")"
   ]
  },
  {
   "cell_type": "code",
   "execution_count": 20,
   "id": "e8bbab2c",
   "metadata": {},
   "outputs": [
    {
     "data": {
      "image/png": "[encoded data removed]",
      "text/plain": [
       "<Figure size 432x288 with 1 Axes>"
      ]
     },
     "metadata": {
      "needs_background": "light"
     },
     "output_type": "display_data"
    }
   ],
   "source": [
    "return_plot = sns.lineplot(x=[x for x in range(len(training_return))], y=training_return)\n",
    "fig = return_plot.get_figure()\n",
    "fig.savefig(\"training_return.png\")"
   ]
  },
  {
   "cell_type": "code",
   "execution_count": null,
   "id": "841e5312",
   "metadata": {},
   "outputs": [],
   "source": [
    "action_centroids = np.load(\"behavioural_cloning_centroids.npy\")\n",
    "network = torch.load(\"behavioural_cloning.pth\")\n",
    "\n",
    "num_actions = action_centroids.shape[0]\n",
    "action_list = np.arange(num_actions)\n",
    "\n",
    "episode_rewards = []\n",
    "for episode in range(100):\n",
    "    obs = env.reset()\n",
    "    done = False\n",
    "    total_reward = 0\n",
    "    steps = 0\n",
    "\n",
    "    while not done:\n",
    "        obs = torch.from_numpy(obs['pov'].transpose(2, 0, 1)[None].astype(np.float32) / 255)\n",
    "        probabilities = torch.softmax(network(obs), dim=1)[0]\n",
    "        probabilities = probabilities.detach().numpy()\n",
    "        discrete_action = np.random.choice(action_list, p=probabilities)\n",
    "\n",
    "        action = action_centroids[discrete_action]\n",
    "        minerl_action = {\"vector\": action}\n",
    "\n",
    "        obs, reward, done, info = env.step(minerl_action)\n",
    "        total_reward += reward\n",
    "        steps += 1\n",
    "    \n",
    "    episode_rewards.append(total_reward)\n",
    "\n",
    "#     env.release()\n",
    "#     env.play()\n",
    "    print(f'Episode #{episode + 1} reward: {total_reward}\\t\\t episode length: {steps}\\n')"
   ]
  },
  {
   "cell_type": "code",
   "execution_count": null,
   "id": "f8eeb621",
   "metadata": {},
   "outputs": [],
   "source": []
  }
 ],
 "metadata": {
  "kernelspec": {
   "display_name": "Python [conda env:venv] *",
   "language": "python",
   "name": "conda-env-venv-py"
  },
  "language_info": {
   "codemirror_mode": {
    "name": "ipython",
    "version": 3
   },
   "file_extension": ".py",
   "mimetype": "text/x-python",
   "name": "python",
   "nbconvert_exporter": "python",
   "pygments_lexer": "ipython3",
   "version": "3.6.13"
  }
 },
 "nbformat": 4,
 "nbformat_minor": 5
}
